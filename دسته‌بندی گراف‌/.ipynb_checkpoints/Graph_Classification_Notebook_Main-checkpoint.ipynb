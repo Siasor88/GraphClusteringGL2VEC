{
 "cells": [
  {
   "cell_type": "markdown",
   "metadata": {
    "id": "L_F0y3JLlIMl"
   },
   "source": [
    "<div style=\"direction:rtl;line-height:300%;\">\n",
    "\t<font face=\"XB Zar\" size=5>\n",
    "\t\t<div align=center>\n",
    "\t\t\t<font face=\"IranNastaliq\" size=30>\n",
    "\t\t\t\t<p></p>\n",
    "\t\t\t\t<p></p>\n",
    "به نام خدا\n",
    "\t\t\t\t<p></p>\n",
    "\t\t\t</font>\n",
    "\t\t\t<font color=#FF7500>\n",
    "دانشگاه صنعتی شریف - دانشکده مهندسی کامپیوتر\n",
    "            </font>\n",
    "\t\t\t<p></p>\n",
    "\t\t\t<font color=blue>\n",
    "جبر خطی - دکتر سمیراحسین قربان\n",
    "            </font>\n",
    "\t\t\t<br />\n",
    "\t\t\t<br />\n",
    "نیم سال اول ۱۴۰۱-۱۴۰۰\n",
    "\t\t</div>\n",
    "\t\t<hr/>\n",
    "\t\t<div align=center dir='rtl'>\n",
    "\t\t    <font color=red>\n",
    "\t\t\t    <br />\n",
    "پروژه Graph Classification\n",
    "            \t<br/>\n",
    "\t\t\t</font>\n",
    "            طراحان:      \n",
    "           \n",
    "\n",
    "[علی بالاپور](alibalapour93.ab@gmail.com)\n",
    "            ، امیر معینی، محمدصالح صفرنژاد \t\t\t<br/><br/>\n",
    "موعد تحویل: 12 بهمن\n",
    "                <br/>\n",
    "                از هم‌فکری و مشورت استقبال می‌کنیم ولی ضروری است که  پیاده‌سازی‌ها حتماً   به تنهایی و بدون مشاهده کد دیگران صورت پذیرد.\n",
    "                <br/> <br/>\n",
    "                <font color=red>\n",
    "لطفا در صورت همفکری با سایر دانشجویان، نام و شماره دانشجویی آنها را \n",
    "وارد کنید\n",
    "     \t\t</font>\n",
    "                <br/>\n",
    "        </style>\n",
    "\t</font>\n",
    "</div>"
   ]
  },
  {
   "cell_type": "markdown",
   "metadata": {
    "id": "14KQ1zARTFvj"
   },
   "source": [
    "<div dir=\"rtl\" align= \"justify\">\n",
    "<font face=\"calibri\" size=4>\n",
    "    پیش از پرداختن به محتوای پروژه نکات زیر را در نظر داشته باشید:\n",
    "    <ul>\n",
    "        <li>\n",
    "انجام این فاز از پروژه به صورت انفرادی می‌باشد.\n",
    "        </li>\n",
    "        <li>\n",
    "            تمامی پیاده‌سازی‌ها باید با زبان پایتون صورت پذیرد.\n",
    "        </li>\n",
    "        <li>\n",
    "            استفاده از کتابخانه‌های پایتون مجاز است.\n",
    "        </li>\n",
    "        <li>\n",
    "            در مجموع این پروژه شامل 100 نمره است.\n",
    "        </li>\n",
    "        <li>\n",
    "            برای تکمیل پروژه لازم است که بخش‌های مشخص شده با ستاره(*) را تکمیل کنید.\n",
    "        </li>\n",
    "        <li>\n",
    "            اجرای برخی از کدهای پروژه ممکن است زمانبر باشد. بنابراین پیشنهاد می‌شود که از google colab برای اجرا کدهای این پروژه استفاده نمایید.\n",
    "        </li>\n",
    "</div>"
   ]
  },
  {
   "cell_type": "markdown",
   "metadata": {
    "id": "5ljl9YUkNz_P"
   },
   "source": [
    "<div dir=\"rtl\" align= \"justify\">\n",
    "    <font face=\"calibri\" size=4>\n",
    "<h1> ‌مقدمه‌ای بر مسئله طبقه‌بندی(Classification)</h1> \n",
    "Classification یا طبقه‌بندی یک نوع از مسائل یادگیری ماشین با نظارت (supervised) است که در آن برخلاف مسائل رگرسیون به مطالعه و پیشبینی داده‌ها با برچسب‌های صحیح و پیوسته می‌پردازد.\n",
    "به زبان ساده در مسائل طبقه‌بندی ما با تعدادی داده سروکار داریم که هرکدام به یک دسته تعلق دارند و تعداد این دسته‌ها n تاست و هدف ما این است که با مطالعه ویژگی‌های این داده‌ها بتوانیم درصورتی‌که داده جدیدی به ما بدهند مشخص کنیم که به کدام‌یک از دسته‌های ۱ تا n تعلق دارد.\n",
    "<p>\n",
    "    <img src=\"https://miro.medium.com/max/1200/1*H-0Hu35Un_buwheCFlTvbA.png\" width='600'/>\n",
    "    <img src=\"https://static.javatpoint.com/tutorial/machine-learning/images/regression-vs-classification-in-machine-learning.png\" width='600'/>\n",
    "</p>\n",
    "ما در زندگی روزمره از الگوریتم‌های طبقه‌بندی بدون اینکه متوجه شویم استفاده می‌کنیم.  به‌طور مثال سرویس‌های ایمیل مانند ِ Yahoo و Gmail و … از الگوریتم‌های طبقه‌بندی برای تعیین کردن اینکه یک ایمیل spam یا هرزنامه است استفاده می‌کند. شبکه‌های اجتماعی نظیر Youtube و آپارات از این الگوریتم‌ها برای جلوگیری از نشر محتوای نامناسب استفاده می‌کنند.\n",
    "همچنین در زمینه‌های پزشکی نیز این الگوریتم‌ها کاربرد گسترده‌ای دارند و از آنها برای تشخیص بدخیم یا خوش‌خیم بودن نوع سرطان، تشخیص ابتلا به کرونا با استفاده از تصویر ریه فرد با دقت بسیار بالاتر از تست‌های معمول پزشکی و … استفاده می‌شوند. <br>\n",
    "برای آشنایی بیشتر، می توانید لینک‌های زیر را مطالعه کنید.\n",
    "<div dir=\"ltr\">\n",
    "<a href='https://www.ibm.com/cloud/blog/supervised-vs-unsupervised-learning'>Supervised vs Unsupervised Learning</a> <br>\n",
    "<a href='https://machinelearningmastery.com/classification-versus-regression-in-machine-learning/'>Classification Versus Regression In Machine Learning</a> <br>\n",
    "<a href='https://towardsdatascience.com/machine-learning-classifiers-a5cc4e1b0623?gi=b4058dcfb231'>Machine-Learning-Classifiers</a> <br>\n",
    "<a href='https://healthinformatics.uic.edu/blog/machine-learning-in-healthcare/'>Machine Learning In Healthcare</a>\n",
    "</div>\n",
    "در ادامه به معرفی مختصر معروف‌ترین الگوریتم‌های طبقه‌بندی می‌پردازیم:\n",
    "<h2> الگوریتم  Logistic Regression </h2>\n",
    "از این روش برای پیش‌بینی نتایج دودویی استفاده می‌شود. به عبارتی دیگر، این الگوریتم پیش‌بینی می‌کند که آیا چیزی اتفاق میفتد یا خیر. در این روش از متغیر های مستقل استفاده می‌شود تا داده ها به یکی از دو طبقه تعلق بگیرند و از تابعی به نام سیگموئید (sigmoid function) بدین منظور استفاده می‌شود. Ridge classification نیز تقریبا مشابه این الگوریتم عمل می‌کند.\n",
    "<p class=\"center\">\n",
    "<img src=\"https://media.geeksforgeeks.org/wp-content/uploads/20200522215734/download35.jpg\" width='600'>\n",
    "</p>\n",
    "<h2> الگوریتم Naive Bayes </h2>\n",
    "این الگوریتم نیز از الگوریتم‌های احتمالاتی است و ایده آن از نظریه Bayes می‌آید.\n",
    "همچنین ازآنجایی‌که زمان اجرای خطی دارد هزینه محاسباتی آن پایین است می‌تواند روی دیتاست های بزرگ اعمال شود. علاوه بر آن پیاده‌سازی ساده‌ای دارد و عملکرد خوبی نیز نشان می‌دهد.\n",
    "<p class=\"center\">\n",
    "<img src='https://miro.medium.com/max/1400/1*LB-G6WBuswEfpg20FMighA.png'>\n",
    "</p>\n",
    "<h2> الگوریتم K-Nearest Neighbors </h2>\n",
    "این الگوریتم، از الگوریتم های مبتنی بر یافتن الگو است که از دیتاست اولیه برای پیشبینی k تا نزدیک‌ترین داده مرتبط در آینده استفاده می‌کند. به عبارتی هنگامی که داده گسسته جدیدی را دریافت می‌کند، ‌k تا از نزدیک‌ترین نمونه های ذخیره‌شده را تحلیل می‌کند و بر اساس آن، بین k داده‌های نزدیک، کلاسی را که بیشترین تکرار را دارد، به عنوان نتیجه پیش‌بینی خروجی می‌دهد.\n",
    "<p class=\"center\">\n",
    "<img src='https://miro.medium.com/max/874/1*2S4-xzWxjpQbNNPvNrWd1Q.png'>\n",
    "<p>\n",
    "<h1> طبقه‌بندی گراف‌ها(Graph Classification)</h1>\n",
    "یکی از مسائل مهم در حوزه یادگیری ماشین، مسئله Graph Classification یا طبقه‌بندی گراف‌ها می‌باشد. در این مسئله تعدادی گراف داریم که هر کدام یک برچسب (label) خاص خود را دارند. هدف ما در این مسئله این است که در صورتی که یک گراف جدید ولی مشابه با گراف‌های قبلی، به مدل داده شود، این مدل بتواند برچسب گراف جدید را با توجه به ساختاری که دارد، به درستی حدس بزند. برای آشنایی بیشتر، پیشنهاد می‌شود که اسلاید زیر را مطالعه نمایید.\n",
    "    <div dir=\"ltr\">\n",
    "        <a href='https://www.csc2.ncsu.edu/faculty/nfsamato/practical-graph-mining-with-R/slides/pdf/Classification.pdf'>Graph Classification</a>\n",
    "    </div>\n",
    " \n",
    "<p class=\"center\">\n",
    "    <img src=\"https://repository-images.githubusercontent.com/140943444/1ccb3780-95da-11e9-8236-39c607d8ccaf\" width='500'/>\n",
    "</p>\n",
    "</div>"
   ]
  },
  {
   "cell_type": "markdown",
   "metadata": {
    "id": "lWBayW68fdtC"
   },
   "source": [
    "# gl2vec : Learning Feature Representation Using Graphlets for Directed Networks"
   ]
  },
  {
   "cell_type": "markdown",
   "metadata": {
    "id": "apvP74GWfgIe"
   },
   "source": [
    "<div dir=\"rtl\" align= \"justify\">\n",
    "<font face=\"calibri\" size=4>\n",
    "الگوریتم‌های مختلفی برای طبقه‌بندی گراف وجود دارد. اما یکی از اشتراکاتی که بین این الگوریتم‌ها وجود دارد، این است که برای طبقه‌بندی گراف‌ها، ابتدا لازم است که هر گراف به شکلی نمایش داده شود که قابل درک برای رایانه باشد. به این منظور روش‌های مختلف   graph embedding وجود دارد، که با اعمال آن‌ها، اطلاعات گراف در  یک بردار m بعدی کد می‌شوند. (برای کسب اطلاعات بیشتر می‌توانید بخش‌هایی از\n",
    "<a href='https://towardsdatascience.com/overview-of-deep-learning-on-graph-embeddings-4305c10ad4a4'>این</a>\n",
    "مقاله را مطالعه نمایید.) <br>\n",
    "برای تکمیل این پروژه لازم است که مقاله gl2vec: Learning Feature Representation Using Graphlets for Directed Networks را حتماً مطالعه نمایید. در این مقاله یک روش جدید برای  graph embedding  ارائه‌شده است. همچنین بررسی‌های تکمیلی بر روی نتایج حاصل از اعمال الگوریتم‌های مختلف یادگیری ماشین بر روی graph embedding حاصل، انجام‌شده است. <br>\n",
    "در ادامه کار یک مثال فرضی از نحوه عملکرد روش ارائه‌شده برای کد کردن اطلاعات گراف (graph embedding)  و طبقه‌بندی گراف ارائه شده است. <br>\n",
    "<h2> مثال</h2>\n",
    "فرض کنید تعدادی گراف داریم که هرکدام نشان‌دهنده روابط میان یک سری کاربر در توییتر است. هرکدام از این گراف‌ها شامل تعدادی گره، که نشان‌دهنده کاربران، و تعدادی یال جهت‌دار، که نشان‌دهنده following کاربر مقصد توسط کاربر مبدأ، می‌باشد. هرکدام از این گراف‌ها یک برچسب  (label) دارند که نشان‌دهنده نوع ارتباط این افراد با یکدیگر در توییتر می‌باشد. فرض کنید که label=1 نشان‌دهنده این است که ارتباط بین افراد از نوع دوستی و label=2 نشان‌دهنده ارتباط کاری می‌باشد.\n",
    "<p align=\"center\">\n",
    "    <img src=\"https://drive.google.com/uc?export=view&id=1Mlt1uQi2u4zzzfc4gELef1cBYdeSQ6sn\" />\n",
    "</p>\n",
    "طبق مقاله، فرض کنید که f یک تابع mapping‌‌ای باشد که گراف را به یک بردار (حاصل  embedding) تبدیل می‌کند. یکی از اهداف مقاله، ارائه یک تابع f مناسب است که بتواند به خوبی ویژگی‌های گراف را از ساختار توپولوژیکی گراف استخراج کرده و این ویژگی‌ها را به یک بردار در فضای برداری کد کرد. <br>\n",
    "با فرض داشتن یک تابع f فرضی بردارهای زیر برای هر گراف بوجود آمده است:\n",
    "<p align=\"center\">\n",
    "    <img src=\"https://drive.google.com/uc?export=view&id=1Wc4f1VDckJuVL_pkNiRMM2f_SSTpNQCw\" />\n",
    "</p>\n",
    "همان‌طور که قابل‌مشاهده است، بردارهای گراف‌هایی که دارای برچسب یکسان می‌باشند، به همدیگر شبیه‌تر می‌باشند. می‌توانید با محاسبه نرم اقلیدسی تفاوت هر دو بردار، این موضوع را متوجه شوید. <br>\n",
    "پس از محاسبه embedding‌ها توسط تابع f، با استفاده از مدل‌های استاندارد یادگیری ماشین مانند Logistic Regression، k-NN، SVM و… ویژگی‌های این نوع گراف‌ها را به مدل آموزش داد تا در صورت مواجهه با یک گراف جدید که قبلا در مجموعه داده وجود نداشت، برچسب متناظر گراف جدید را با دقت مناسبی پیش بینی کرد. <br>\n",
    "<b>در ادامه پروژه، شما باید با توجه به مفاهیم و الگوریتم معرفی‌شده در مقاله، این تابع f را پیاده‌سازی کنید و عملکرد آن را روی دیتاست معرفی‌شده، بسنجید.</b>\n",
    "\n",
    "</div>"
   ]
  },
  {
   "cell_type": "markdown",
   "metadata": {
    "id": "DG5qssiEfhRk"
   },
   "source": [
    "# Implementation"
   ]
  },
  {
   "cell_type": "code",
   "execution_count": null,
   "metadata": {
    "id": "ZnHOxeOEnK1T"
   },
   "outputs": [],
   "source": [
    "import numpy as np\n",
    "import pandas as pd\n",
    "import json\n",
    "import itertools\n",
    "import random\n",
    "import os\n",
    "import gdown \n",
    "\n",
    "# pip install tqdm\n",
    "from tqdm import tqdm\n",
    "from sklearn.model_selection import train_test_split\n",
    "from sklearn.metrics import classification_report"
   ]
  },
  {
   "cell_type": "markdown",
   "metadata": {
    "id": "woF_-_AXnQyB"
   },
   "source": [
    "## Preparing Dataset"
   ]
  },
  {
   "cell_type": "markdown",
   "metadata": {
    "id": "btnUCNBtFArF"
   },
   "source": [
    "<div dir=\"rtl\" align= \"justify\">\n",
    "<font face=\"calibri\" size=4>\n",
    "برای این پروژه، از دیتاست github_stargazers که شامل حدودا 12000 گراف با تعداد گره و یال متفاوت، استفاده می کنیم. البته توجه داشته باشید که برای راحتی کار، حدود 5000 نمونه از این دیتاست جدا شده و به عنوان دیتاست اصلی، در این پروژه مورد استفاده قرار می گیرد. <br>\n",
    "برای آشنایی بیشتر با ساختار دیتاست، پیشنهاد می‌شود که این \n",
    "<a href='https://snap.stanford.edu/data/github_stargazers.html'>لینک</a>\n",
    " را مطالعه کنید.\n",
    "</div>"
   ]
  },
  {
   "cell_type": "code",
   "execution_count": null,
   "metadata": {
    "id": "jVqOTxZNnO-v"
   },
   "outputs": [],
   "source": [
    "with open('edges.json') as f:\n",
    "    data = json.load(f)"
   ]
  },
  {
   "cell_type": "code",
   "execution_count": null,
   "metadata": {
    "id": "1qrKDx67HkCo"
   },
   "outputs": [],
   "source": [
    "# Example\n",
    "data['0']"
   ]
  },
  {
   "cell_type": "markdown",
   "metadata": {
    "id": "5-SAn7Ynnw6T"
   },
   "source": [
    "## Building Adjacency Matrix * (20)"
   ]
  },
  {
   "cell_type": "markdown",
   "metadata": {
    "id": "TcdMhrmPHZgh"
   },
   "source": [
    "<div dir=\"rtl\" align= \"justify\">\n",
    "<font face=\"calibri\" size=4>\n",
    "برای شمردن تعداد گرافلت‌ها در یک گراف، باید گراف را به شکلی که برای کامپیوتر قابل‌درک باشد، دربیاوریم. یکی از ساده‌ترین راه‌ها برای این منظور، استفاده از \n",
    "<a href='https://en.wikipedia.org/wiki/Adjacency_matrix'>ماتریس مجاورت</a>\n",
    " می‌باشد. با بررسی ساختار دیتاست و تکمیل دو تابع زیر، ابزار موردنیاز برای نمایش یک گراف با ماتریس مجاورت متناظر آن را در اختیار خواهید داشت. <br>\n",
    "<b>دو تابع زیر را با توجه به توضیحات داده‌شده، تکمیل کنید.</b>\n",
    "</div>"
   ]
  },
  {
   "cell_type": "code",
   "execution_count": null,
   "metadata": {
    "id": "krQWDSC3nz9l"
   },
   "outputs": [],
   "source": [
    "def get_dimention(graph):\n",
    "    '''\n",
    "    Get a graph (list of edges) and returns number of vertices of graph\n",
    "\n",
    "    Parameters\n",
    "    ----------\n",
    "    graph : list\n",
    "        list of edges\n",
    "\n",
    "    Returns\n",
    "    -------\n",
    "    int\n",
    "        number of vertices\n",
    "    '''\n",
    "\n",
    "    # YOUR CODE STARTS HERE (≈ 1 line)\n",
    "\n",
    "    # YOUR CODE ENDS HERE"
   ]
  },
  {
   "cell_type": "code",
   "execution_count": null,
   "metadata": {
    "id": "Wvt_NbMoN3x8"
   },
   "outputs": [],
   "source": [
    "def get_adj_matrix(graph):               # return Adjacency matrix of graph i in dataset \n",
    "    '''\n",
    "    Get a graph (list of edges) and returns adjacency matrix of graph\n",
    "\n",
    "    Parameters\n",
    "    ----------\n",
    "    graph : list\n",
    "        list of edges\n",
    "\n",
    "    Returns\n",
    "    -------\n",
    "    adj_mat : np.array\n",
    "        adjacency matrix\n",
    "    '''\n",
    "    \n",
    "    # YOUR CODE STARTS HERE (≈ 8 line)\n",
    "\n",
    "    # YOUR CODE ENDS HERE"
   ]
  },
  {
   "cell_type": "markdown",
   "metadata": {
    "id": "pxMoORAyn2kf"
   },
   "source": [
    "## Counting Graphlets * (30)"
   ]
  },
  {
   "cell_type": "markdown",
   "metadata": {
    "id": "lFO0Aa7pJApv"
   },
   "source": [
    "<div dir=\"rtl\" align= \"justify\">\n",
    "<font face=\"calibri\" size=4>\n",
    "اکنون با داشتن ماتریس مجاورت، می توان تعداد گرافلت های سه تایی با ساختارهای متفاوت در یک گراف را به راحتی محاسبه کرد. <b>تابع زیر را با این هدف، تکمیل کنید.</b> <br>\n",
    "* راهنمایی :  با توجه به اینکه گراف های موجود در دیتاست از نوع undirected و static می باشند، پس در کل 4 نوع گرافلت سه تایی خواهیم داشت. بهتر است ماتریس مجاورت این 4 نوع گرافلت را محاسبه کنید و با توجه به آن، کد محاسبه تعداد گرافلت ها را تکمیل نمایید. البته می توانید از دو تابع \n",
    "<a dir=\"ltr\" href='https://numpy.org/doc/stable/reference/generated/numpy.ix_.html'>np.ix_()</a>\n",
    " و \n",
    " <a dir=\"ltr\" href='https://docs.python.org/3/library/itertools.html#itertools.combinations'>itertools.combinations()</a> استفاده نمایید.\n",
    "</div>"
   ]
  },
  {
   "cell_type": "code",
   "execution_count": null,
   "metadata": {
    "id": "k9fRvUkpn5GL"
   },
   "outputs": [],
   "source": [
    "def count_gls(graph):\n",
    "    '''\n",
    "    Get a graph (list of edges) and returns number of each graphlet\n",
    "\n",
    "    Parameters\n",
    "    ----------\n",
    "    graph : list\n",
    "        list of edges\n",
    "\n",
    "    Returns\n",
    "    -------\n",
    "    results : dict\n",
    "        keys are type of graphle and values are number of graphlets\n",
    "    '''\n",
    "\n",
    "    results = {\n",
    "        0 : 0,\n",
    "        1 : 0,\n",
    "        2 : 0,\n",
    "        3 : 0\n",
    "    }\n",
    "    \n",
    "    # Update values of results.\n",
    "    # You can use itertools.combinations() and np.ix_() function to get sub-matrices(3*3) and count number of graphlets.\n",
    "    # YOUR CODE STARTS HERE (≈ 6 line)\n",
    "\n",
    "    # YOUR CODE ENDS HERE\n",
    "\n",
    "    return results"
   ]
  },
  {
   "cell_type": "code",
   "execution_count": null,
   "metadata": {
    "id": "Wfa3R3DsKmlw"
   },
   "outputs": [],
   "source": [
    "# Example\n",
    "count_gls(data['16'])\n",
    "\n",
    "# output : {0: 211, 1: 107, 2: 41, 3: 5}"
   ]
  },
  {
   "cell_type": "markdown",
   "metadata": {
    "id": "knNPuJqVn7Oo"
   },
   "source": [
    "## Null Model"
   ]
  },
  {
   "cell_type": "markdown",
   "metadata": {
    "id": "gT1sI0NzYKcZ"
   },
   "source": [
    "<div dir=\"rtl\" align= \"justify\">\n",
    "<font face=\"calibri\" size=4>\n",
    "طبق الگوریتم توضیح داده‌شده در مقاله، به یک null model نیاز داریم تا یک گراف مشابه گراف اصلی ایجاد کنیم. برای این کار، روش‌های مختلفی وجود دارد. یکی از ساده‌ترین روش، تولید گرافی با تعداد یال و گره برابر با گراف اصلی، می‌باشد. کد زیر یک گراف تصادفی مشابه با گراف اصلی تولید می‌نماید.\n",
    "</div>"
   ]
  },
  {
   "cell_type": "code",
   "execution_count": null,
   "metadata": {
    "id": "inP5_nUvoF6I"
   },
   "outputs": [],
   "source": [
    "def null_model(graph):      #keeps edge and node counts invariant.\n",
    "    '''\n",
    "    Get a graph (list of edges) and generates a random graph, similar to the main graph\n",
    "\n",
    "    Parameters\n",
    "    ----------\n",
    "    graph : list\n",
    "        list of edges\n",
    "\n",
    "    Returns\n",
    "    -------\n",
    "    random_graph : list\n",
    "        list of edges of random graph\n",
    "    '''\n",
    "\n",
    "    n = get_dimention(graph)\n",
    "    original_mat = get_adj_matrix(graph)\n",
    "    n_edges = int(np.sum(original_mat) / 2)\n",
    "    whole_edges = []\n",
    "    random_edges = []\n",
    "    \n",
    "    stuff = list(range(n))\n",
    "    for subset in itertools.combinations(stuff, 2):\n",
    "        if subset[0] < subset[1]:\n",
    "            whole_edges.append(list(subset))\n",
    "    \n",
    "    random_graph = random.sample(population=whole_edges, k=n_edges)\n",
    "    return random_graph"
   ]
  },
  {
   "cell_type": "code",
   "execution_count": null,
   "metadata": {
    "id": "tIPxjFQooGzd"
   },
   "outputs": [],
   "source": [
    "# Example\n",
    "null_model_graph = null_model(data['16'])\n",
    "count_gls(null_model_graph)\n",
    "\n",
    "# output : {0: 195, 1: 136, 2: 31, 3: 2}"
   ]
  },
  {
   "cell_type": "markdown",
   "metadata": {
    "id": "dfI4_rAToJRu"
   },
   "source": [
    "## Calculating Embeddings * (30)"
   ]
  },
  {
   "cell_type": "markdown",
   "metadata": {
    "id": "Zo-IHHGATA8o"
   },
   "source": [
    "<div dir=\"rtl\" align= \"justify\">\n",
    "<font face=\"calibri\" size=4>\n",
    "حال که می‌توانیم به وسیله null model گراف تصادفی بسازیم، \n",
    "ابزار‌های کافی برای محاسبه SRPها \n",
    "و در نتیجه Embedding  یک گراف‌ را داریم. <br>\n",
    "<b>با توجه به تعریف شماره ۶ مقاله، برای گراف ورودی، به تعداد داده‌شده گراف تصادفی از null model\n",
    "بسازید و سپس بردار شامل ۴تا SRP\n",
    "را محاسبه کنید و برگردانید. </b>\n",
    "</div>"
   ]
  },
  {
   "cell_type": "code",
   "execution_count": null,
   "metadata": {
    "id": "w0fd4zsUoN4A"
   },
   "outputs": [],
   "source": [
    "def get_embedding(graph, null_count=10):\n",
    "    '''\n",
    "    Get a graph (list of edges) and number of graphs generated by null models, then calculate embedding based on paper methon (gl2vec)\n",
    "\n",
    "    Parameters\n",
    "    ----------\n",
    "    graph : list\n",
    "        list of edges\n",
    "    null_count : int\n",
    "        number of graphs generated by null models\n",
    "\n",
    "    Returns\n",
    "    -------\n",
    "    random_graph : list\n",
    "        list of edges of random graph\n",
    "    embedding : np.array\n",
    "        a numpy array contains embedding of given graph\n",
    "    '''\n",
    "\n",
    "    # YOUR CODE STARTS HERE (≈ 15 line)\n",
    "\n",
    "    # YOUR CODE ENDS HERE\n",
    "    \n",
    "    return embedding"
   ]
  },
  {
   "cell_type": "code",
   "execution_count": null,
   "metadata": {
    "id": "SwgfE0FAoO5n"
   },
   "outputs": [],
   "source": [
    "# Example\n",
    "get_embedding(data['16'])\n",
    "# Sample output:\n",
    "# array([ 0.13768454, -0.43379821,  0.51126218,  0.72902199])"
   ]
  },
  {
   "cell_type": "markdown",
   "metadata": {
    "id": "rghEOujVTJyX"
   },
   "source": [
    "<div dir=\"rtl\" align= \"justify\">\n",
    "<font face=\"calibri\" size=4>\n",
    "با اجرای کد زیر، ماتریس embeddings\n",
    "تشکیل می‌شود که هر سطر آن، معادل embedding\n",
    "گرافِ متناظر است.\n",
    "</div>"
   ]
  },
  {
   "cell_type": "code",
   "execution_count": null,
   "metadata": {
    "id": "P3A0iC70wPDS"
   },
   "outputs": [],
   "source": [
    "# Calculates embedding of all graphs\n",
    "embeddings = []\n",
    "for i, graph in tqdm(new_data.items()):\n",
    "    embedding = get_embedding(graph)\n",
    "    if np.isnan(embedding).any():\n",
    "        print(i)\n",
    "    embeddings.append(embedding)\n",
    "embeddings = np.array(embeddings)"
   ]
  },
  {
   "cell_type": "code",
   "execution_count": null,
   "metadata": {
    "id": "KQ-bf6UW0mY9"
   },
   "outputs": [],
   "source": [
    "embeddings.shape"
   ]
  },
  {
   "cell_type": "markdown",
   "metadata": {
    "id": "vOkjfe_cIldv"
   },
   "source": [
    "## Reading Tragets"
   ]
  },
  {
   "cell_type": "markdown",
   "metadata": {
    "id": "4L6B_VufTRHP"
   },
   "source": [
    "<div dir=\"rtl\" align= \"justify\">\n",
    "<font face=\"calibri\" size=4>\n",
    "حال میخواهیم به سراغ مرحله‌ی آموزش و تست مدل‌هایی برویم که سعی دارند از روی نمایش برداری گراف‌ها، نوع آن‌ها را تشخیص دهند.<br>\n",
    "ابتدا برچسب گراف‌ها را می‌خوانیم.\n",
    "</div>"
   ]
  },
  {
   "cell_type": "code",
   "execution_count": null,
   "metadata": {
    "id": "zmTeg1mCdLRD"
   },
   "outputs": [],
   "source": [
    "target_df = pd.read_csv('targets.csv', index_col=0)\n",
    "targets = target_df['target'].values\n",
    "target_df.head()"
   ]
  },
  {
   "cell_type": "code",
   "execution_count": null,
   "metadata": {
    "id": "LEm6wqi4drvS"
   },
   "outputs": [],
   "source": [
    "target_df['target'].value_counts()"
   ]
  },
  {
   "cell_type": "markdown",
   "metadata": {
    "id": "73TrcFcOIp18"
   },
   "source": [
    "## Splitting Data"
   ]
  },
  {
   "cell_type": "markdown",
   "metadata": {
    "id": "myhFcmzhTV4s"
   },
   "source": [
    "<div dir=\"rtl\" align= \"justify\">\n",
    "<font face=\"calibri\" size=4>\n",
    "همانطور که احتمالا می‌دانید، برای آموزش نظارت شده از تمامی داده‌ها استفاده نمی‌کنیم و بعضی از داده‌ها را برای مرحله‌ی تست و تعیین دقت مدل نگه می‌داریم.<br>\n",
    "در ادامه، از emb_train و targ_train برای آموزش و از emb_test و targ_test برای آزمودن مدل‌ها استفاده می‌کنیم.\n",
    "</div>"
   ]
  },
  {
   "cell_type": "code",
   "execution_count": null,
   "metadata": {
    "id": "D3nv4IlmeddL"
   },
   "outputs": [],
   "source": [
    "emb_train, emb_test, targ_train, targ_test = train_test_split(embeddings, targets, test_size=0.15)"
   ]
  },
  {
   "cell_type": "markdown",
   "metadata": {
    "id": "r82eOKAgIuIi"
   },
   "source": [
    "## Classification* (20)"
   ]
  },
  {
   "cell_type": "markdown",
   "metadata": {
    "id": "YvTFcjbJTYh_"
   },
   "source": [
    "<div dir=\"rtl\" align= \"justify\">\n",
    "<font face=\"calibri\" size=4>\n",
    "برای پیاده‌سازی مدل‌ها از کتابخانه sklearn استفاده می‌کنیم. <br>\n",
    "کافیست چند مورد از مدل‌های یادگیری بانظارت را از \n",
    "<a href='https://scikit-learn.org/stable/supervised_learning.html'>اینجا</a>\n",
    " انتخاب کنید و پس از ساختن instance، آن را به تابع تعریف شده در زیر بدهید تا روی داده‌های آموزش، آموزش داده‌شود و نتیجه‌ی تست روی داده‌های تست چاپ شود. <br>\n",
    "پیشنهاد می‌شود که برای آشنایی بیشتر با این رسته از مدل‌های یادگیری ماشین،  با جستجو در گوگل، منابع آموزشی متعددی را که در مورد این مدل‌ها وجود دارد، به صورت گذرا مطالعه نمایید.\n",
    "</div>"
   ]
  },
  {
   "cell_type": "code",
   "execution_count": null,
   "metadata": {
    "id": "0STX98WLLdjT"
   },
   "outputs": [],
   "source": [
    "def fit_classify_report(clf):\n",
    "    clf.fit(emb_train, targ_train)\n",
    "    targ_pred = clf.predict(emb_test)\n",
    "    print(classification_report(targ_test, targ_pred))"
   ]
  },
  {
   "cell_type": "markdown",
   "metadata": {
    "id": "yCnbbmzOTa9D"
   },
   "source": [
    "<div dir=\"rtl\" align= \"justify\">\n",
    "<font face=\"calibri\" size=4>\n",
    "یک مثال را برای Ridge Classifier که مبتنی بر linear regression با تابع هزینه RSS است را در زیر می‌بینیم:\n",
    "\n",
    "</div>"
   ]
  },
  {
   "cell_type": "code",
   "execution_count": null,
   "metadata": {
    "id": "wlspNb3XLdjT"
   },
   "outputs": [],
   "source": [
    "from sklearn.linear_model import RidgeClassifier\n",
    "clf = RidgeClassifier(alpha=0)\n",
    "fit_classify_report(clf)"
   ]
  },
  {
   "cell_type": "markdown",
   "metadata": {
    "id": "48rrKjUFCVGV"
   },
   "source": [
    "<div dir=\"rtl\" align= \"justify\">\n",
    "<font face=\"calibri\" size=4>\n",
    "در قطعه کد زیر، از مدل KNN برای طبقه بندی استفاده می‌نماییم:\n",
    "\n",
    "</div>"
   ]
  },
  {
   "cell_type": "code",
   "execution_count": null,
   "metadata": {
    "id": "M2rY3yReLdjT"
   },
   "outputs": [],
   "source": [
    "from sklearn.neighbors import KNeighborsClassifier\n",
    "clf = KNeighborsClassifier(n_neighbors=3)\n",
    "fit_classify_report(clf)"
   ]
  },
  {
   "cell_type": "markdown",
   "metadata": {
    "id": "NY8pEKbTCdsR"
   },
   "source": [
    "<div dir=\"rtl\" align= \"justify\">\n",
    "<font face=\"calibri\" size=4>\n",
    "در قطعه کد زیر، از مدل Ada Boost برای طبقه بندی استفاده می‌نماییم:\n",
    "\n",
    "</div>"
   ]
  },
  {
   "cell_type": "code",
   "execution_count": null,
   "metadata": {
    "id": "dZpql0NBA1xX"
   },
   "outputs": [],
   "source": [
    "from sklearn.ensemble import AdaBoostClassifier\n",
    "clf = AdaBoostClassifier()\n",
    "fit_classify_report(clf)"
   ]
  },
  {
   "cell_type": "markdown",
   "metadata": {
    "id": "8Ao8Y-w1Chp_"
   },
   "source": [
    "<div dir=\"rtl\" align= \"justify\">\n",
    "<font face=\"calibri\" size=4>\n",
    "در قطعه کد زیر، از مدل SVM برای طبقه بندی استفاده می‌نماییم:\n",
    "\n",
    "</div>"
   ]
  },
  {
   "cell_type": "code",
   "execution_count": null,
   "metadata": {
    "id": "YsCZp9aCBCXy"
   },
   "outputs": [],
   "source": [
    "from sklearn.svm import SVC \n",
    "clf = SVC()\n",
    "fit_classify_report(clf)"
   ]
  },
  {
   "cell_type": "markdown",
   "metadata": {
    "id": "Ias_V2V1Cnro"
   },
   "source": [
    "<div dir=\"rtl\" align= \"justify\">\n",
    "<font face=\"calibri\" size=4>\n",
    "در قطعه کد زیر، از یک مدل شبکه عصبی یا Multilayer perceptron برای طبقه بندی استفاده می‌نماییم:\n",
    "\n",
    "</div>"
   ]
  },
  {
   "cell_type": "code",
   "execution_count": null,
   "metadata": {
    "id": "dFl0_uqiLdjU"
   },
   "outputs": [],
   "source": [
    "from sklearn.neural_network import MLPClassifier\n",
    "import matplotlib.pyplot as plt\n",
    "clf = MLPClassifier(\n",
    "    hidden_layer_sizes=(100, 100, 100, 100, 100), \n",
    "    max_iter=int(1e5), \n",
    "    learning_rate='invscaling', \n",
    "    early_stopping=True, \n",
    "    solver='adam', \n",
    "    n_iter_no_change=1000,\n",
    "    )\n",
    "fit_classify_report(clf)\n",
    "print('final loss=', clf.loss_)\n",
    "plt.plot(clf.loss_curve_)\n",
    "plt.show()"
   ]
  },
  {
   "cell_type": "markdown",
   "metadata": {
    "id": "QZSelntJUGdf"
   },
   "source": [
    "<div dir=\"rtl\" align= \"justify\">\n",
    "<font face=\"calibri\" size=4>\n",
    "<b>پرسش: عملکرد مدل‌ها را چگونه ارزیابی می‌کنید؟ به نظر شما علت عملکرد نسبتا ضعیف مدل‌ها کدامیک از معیارها می‌تواند باشد؟</b>\n",
    "</div>"
   ]
  },
  {
   "cell_type": "code",
   "execution_count": null,
   "metadata": {
    "id": "iLt2jgnkUINp"
   },
   "outputs": [],
   "source": []
  }
 ],
 "metadata": {
  "colab": {
   "collapsed_sections": [],
   "name": "Graph_Classification_Notebook_Main.ipynb",
   "provenance": []
  },
  "kernelspec": {
   "display_name": "Python 3 (ipykernel)",
   "language": "python",
   "name": "python3"
  },
  "language_info": {
   "codemirror_mode": {
    "name": "ipython",
    "version": 3
   },
   "file_extension": ".py",
   "mimetype": "text/x-python",
   "name": "python",
   "nbconvert_exporter": "python",
   "pygments_lexer": "ipython3",
   "version": "3.8.10"
  }
 },
 "nbformat": 4,
 "nbformat_minor": 1
}
